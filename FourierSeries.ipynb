{
 "cells": [
  {
   "cell_type": "markdown",
   "metadata": {},
   "source": [
    "Imports and Setup"
   ]
  },
  {
   "cell_type": "code",
   "execution_count": 1,
   "metadata": {},
   "outputs": [],
   "source": [
    "import scipy\n",
    "from scipy.integrate import quad\n",
    "import numpy as np\n",
    "import math\n",
    "import matplotlib.pyplot as plt\n",
    "import time\n",
    "\n",
    "def complex_quadrature(func, a, b):\n",
    "    def real_func(t):\n",
    "        return np.real(func(t))\n",
    "    def imag_func(t):\n",
    "        return np.imag(func(t))\n",
    "    real_integral = quad(real_func, a, b)\n",
    "    imag_integral = quad(imag_func, a, b)\n",
    "    return (real_integral[0] + 1j*imag_integral[0])\n",
    "\n",
    "def FourierCoefficient(func, k, T):\n",
    "    def integrand(t):\n",
    "        return func(t) * np.exp(-1j * k * (2*math.pi / T) * t)\n",
    "    res = complex_quadrature(integrand, 0, T)\n",
    "    return (1/T) * res\n",
    "\n",
    "def SynthesisEquation(fourierCoefficients, T, t, numCoef):\n",
    "    sum = 0\n",
    "    for k in range(0, numCoef):\n",
    "        sum += fourierCoefficients[0][k] * np.exp(1j * -1 * k * (2*math.pi / T) * t)\n",
    "    for k in range(1, numCoef):\n",
    "        sum += fourierCoefficients[1][k] * np.exp(1j * k * (2*math.pi / T) * t)\n",
    "    return sum"
   ]
  },
  {
   "cell_type": "markdown",
   "metadata": {},
   "source": [
    "Set bounds and other properties"
   ]
  },
  {
   "cell_type": "code",
   "execution_count": 2,
   "metadata": {},
   "outputs": [],
   "source": [
    "X_L = -100\n",
    "X_R = 100\n",
    "Y_T = 5\n",
    "Y_B = -5\n",
    "UPDATE_PERIOD = 0.25\n",
    "NUM_COEF = 200\n",
    "NUM_POINTS = 400"
   ]
  },
  {
   "cell_type": "markdown",
   "metadata": {},
   "source": [
    "Run one of these blocks to pick an equation\n",
    "- Make sure to set the correct fundamental period if the functions are changed"
   ]
  },
  {
   "cell_type": "code",
   "execution_count": 3,
   "metadata": {},
   "outputs": [],
   "source": [
    "FUNDAMENTAL_PERIOD = 40\n",
    "def Rect(t):\n",
    "    if(abs(t % FUNDAMENTAL_PERIOD) < 10):\n",
    "        return 1\n",
    "    else:\n",
    "        return 0\n",
    "FUNC = Rect"
   ]
  },
  {
   "cell_type": "code",
   "execution_count": null,
   "metadata": {},
   "outputs": [],
   "source": [
    "\n",
    "FUNDAMENTAL_PERIOD = 40\n",
    "def RectSaw(t):\n",
    "    relT = abs(t % FUNDAMENTAL_PERIOD)\n",
    "    if(relT <= 20):\n",
    "        return (1)\n",
    "    elif(relT > 20):\n",
    "        return (-1)\n",
    "FUNC = RectSaw"
   ]
  },
  {
   "cell_type": "code",
   "execution_count": null,
   "metadata": {},
   "outputs": [],
   "source": [
    "FUNDAMENTAL_PERIOD = 20\n",
    "def Triangle(t):\n",
    "    if(abs(t % FUNDAMENTAL_PERIOD) < 10):\n",
    "        return (t % FUNDAMENTAL_PERIOD)\n",
    "    else:\n",
    "        return 0\n",
    "FUNC = Triangle"
   ]
  },
  {
   "cell_type": "code",
   "execution_count": null,
   "metadata": {},
   "outputs": [],
   "source": [
    "FUNDAMENTAL_PERIOD = 40\n",
    "def IsocilesTriangle(t):\n",
    "    relT = abs(t % FUNDAMENTAL_PERIOD)\n",
    "    if(relT >= 10 and relT <= 20):\n",
    "        return (relT - 10)\n",
    "    elif(relT > 20 and relT <= 30):\n",
    "        return (30 - relT)\n",
    "    else:\n",
    "        return 0\n",
    "FUNC = IsocilesTriangle"
   ]
  },
  {
   "cell_type": "code",
   "execution_count": null,
   "metadata": {},
   "outputs": [],
   "source": [
    "FUNDAMENTAL_PERIOD = 2 * math.pi\n",
    "def Tangent(t):\n",
    "    return np.tan(t)\n",
    "FUNC = Tangent"
   ]
  },
  {
   "cell_type": "code",
   "execution_count": null,
   "metadata": {},
   "outputs": [],
   "source": [
    "FUNDAMENTAL_PERIOD = 2 * math.pi\n",
    "def AbsSin(t):\n",
    "    FUNDAMENTAL_PERIOD = 10\n",
    "    return np.abs(np.sin(t * (math.pi / 20)))\n",
    "FUNC = AbsSin"
   ]
  },
  {
   "cell_type": "markdown",
   "metadata": {},
   "source": [
    "Plot original equation"
   ]
  },
  {
   "cell_type": "code",
   "execution_count": 4,
   "metadata": {},
   "outputs": [
    {
     "data": {
      "image/png": "[encoded data removed]",
      "text/plain": [
       "<Figure size 432x288 with 1 Axes>"
      ]
     },
     "metadata": {
      "needs_background": "light"
     },
     "output_type": "display_data"
    }
   ],
   "source": [
    "x = np.linspace(X_L, X_R, NUM_POINTS)\n",
    "y2 = []\n",
    "for xVal in x:\n",
    "    y2.append(FUNC(xVal))\n",
    "\n",
    "plt.plot(x, y2)\n",
    "plt.show()"
   ]
  },
  {
   "cell_type": "markdown",
   "metadata": {},
   "source": [
    "Compute coefficients"
   ]
  },
  {
   "cell_type": "code",
   "execution_count": 5,
   "metadata": {},
   "outputs": [],
   "source": [
    "positiveCoefficients = []\n",
    "negativeCoefficients = []\n",
    "for i in range(0, NUM_COEF):\n",
    "    positiveCoefficients.append(FourierCoefficient(FUNC, i, FUNDAMENTAL_PERIOD))\n",
    "for i in range(0, NUM_COEF):\n",
    "    negativeCoefficients.append(FourierCoefficient(FUNC, -1 * i, FUNDAMENTAL_PERIOD))\n",
    "\n",
    "coefficientsPair = [negativeCoefficients, positiveCoefficients]"
   ]
  },
  {
   "cell_type": "markdown",
   "metadata": {},
   "source": [
    "Plot synthesis equation"
   ]
  },
  {
   "cell_type": "code",
   "execution_count": 11,
   "metadata": {},
   "outputs": [
    {
     "ename": "KeyboardInterrupt",
     "evalue": "",
     "output_type": "error",
     "traceback": [
      "\u001b[1;31m---------------------------------------------------------------------------\u001b[0m",
      "\u001b[1;31mKeyboardInterrupt\u001b[0m                         Traceback (most recent call last)",
      "\u001b[1;32m<ipython-input-11-ab4ee7f37c82>\u001b[0m in \u001b[0;36m<module>\u001b[1;34m\u001b[0m\n\u001b[0;32m     20\u001b[0m     \u001b[0mfig\u001b[0m\u001b[1;33m.\u001b[0m\u001b[0mcanvas\u001b[0m\u001b[1;33m.\u001b[0m\u001b[0mdraw\u001b[0m\u001b[1;33m(\u001b[0m\u001b[1;33m)\u001b[0m\u001b[1;33m\u001b[0m\u001b[1;33m\u001b[0m\u001b[0m\n\u001b[0;32m     21\u001b[0m     \u001b[0mfig\u001b[0m\u001b[1;33m.\u001b[0m\u001b[0mcanvas\u001b[0m\u001b[1;33m.\u001b[0m\u001b[0mflush_events\u001b[0m\u001b[1;33m(\u001b[0m\u001b[1;33m)\u001b[0m\u001b[1;33m\u001b[0m\u001b[1;33m\u001b[0m\u001b[0m\n\u001b[1;32m---> 22\u001b[1;33m     \u001b[0mtime\u001b[0m\u001b[1;33m.\u001b[0m\u001b[0msleep\u001b[0m\u001b[1;33m(\u001b[0m\u001b[0mUPDATE_PERIOD\u001b[0m\u001b[1;33m)\u001b[0m\u001b[1;33m\u001b[0m\u001b[1;33m\u001b[0m\u001b[0m\n\u001b[0m",
      "\u001b[1;31mKeyboardInterrupt\u001b[0m: "
     ]
    },
    {
     "data": {
      "image/png": "[encoded data removed]",
      "text/plain": [
       "<Figure size 432x288 with 1 Axes>"
      ]
     },
     "metadata": {
      "needs_background": "light"
     },
     "output_type": "display_data"
    }
   ],
   "source": [
    "x = np.linspace(X_L, X_R, NUM_POINTS)\n",
    "y1 = []\n",
    "for xVal in x:\n",
    "    y1.append(SynthesisEquation(coefficientsPair, FUNDAMENTAL_PERIOD, xVal, 1))\n",
    "\n",
    "plt.ion()\n",
    "fig = plt.figure()\n",
    "ax = fig.add_subplot(111)\n",
    "ax.set(xlim =(X_L, X_R), ylim =(Y_B, Y_T))\n",
    "line1, = ax.plot(x, np.real(y1), 'b-')\n",
    "\n",
    "\n",
    "for numC in range(2, NUM_COEF):\n",
    "    y1.clear()\n",
    "    for xVal in x:\n",
    "        y1.append(SynthesisEquation(coefficientsPair, FUNDAMENTAL_PERIOD, xVal, numC))\n",
    "    line1.set_ydata(np.real(y1))\n",
    "    text = (str(numC) + \" coefficients used in sum\")\n",
    "    ax.set_title(text)\n",
    "    fig.canvas.draw()\n",
    "    fig.canvas.flush_events()\n",
    "    time.sleep(UPDATE_PERIOD)"
   ]
  }
 ],
 "metadata": {
  "interpreter": {
   "hash": "09c78cf94ba6d35dd078dba9a71fbc7d1a0d4d0686f6cf2e3b1fcef8040ca69b"
  },
  "kernelspec": {
   "display_name": "Python 3.8.3 64-bit ('base': conda)",
   "language": "python",
   "name": "python3"
  },
  "language_info": {
   "codemirror_mode": {
    "name": "ipython",
    "version": 3
   },
   "file_extension": ".py",
   "mimetype": "text/x-python",
   "name": "python",
   "nbconvert_exporter": "python",
   "pygments_lexer": "ipython3",
   "version": "3.8.3"
  },
  "orig_nbformat": 4
 },
 "nbformat": 4,
 "nbformat_minor": 2
}
